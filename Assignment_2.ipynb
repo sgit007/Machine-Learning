{
  "nbformat": 4,
  "nbformat_minor": 0,
  "metadata": {
    "colab": {
      "name": "Assignment 2.ipynb",
      "provenance": [],
      "authorship_tag": "ABX9TyNxmW8hnFsSZ+l961j5TLFD",
      "include_colab_link": true
    },
    "kernelspec": {
      "name": "python3",
      "display_name": "Python 3"
    }
  },
  "cells": [
    {
      "cell_type": "markdown",
      "metadata": {
        "id": "view-in-github",
        "colab_type": "text"
      },
      "source": [
        "<a href=\"https://colab.research.google.com/github/sgit007/Machine-Learning/blob/main/Assignment_2.ipynb\" target=\"_parent\"><img src=\"https://colab.research.google.com/assets/colab-badge.svg\" alt=\"Open In Colab\"/></a>"
      ]
    },
    {
      "cell_type": "markdown",
      "metadata": {
        "id": "klyd399-2u-Y"
      },
      "source": [
        "#Assignment 2 Machine Learning\n",
        "  ##Prepared By: Sakib Mahmud\n",
        "    ##ID: 12705873\n",
        "\n",
        "    ###Reading data"
      ]
    }
  ]
}